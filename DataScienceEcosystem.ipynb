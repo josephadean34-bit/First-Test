{
 "cells": [
  {
   "cell_type": "markdown",
   "id": "4353c75f-0eae-4f38-90c7-2254e5a72e16",
   "metadata": {},
   "source": [
    "# Data Science Tools and Ecosystem"
   ]
  },
  {
   "attachments": {},
   "cell_type": "markdown",
   "id": "da760116-5c14-48dd-b6eb-8aafb1879438",
   "metadata": {},
   "source": [
    "In this notebook, Data Science Tools and Ecosystem are summarized."
   ]
  },
  {
   "cell_type": "markdown",
   "id": "ae8e704f-0bf1-4f81-adc8-0c75613c4806",
   "metadata": {},
   "source": [
    "**Objectives:**\n",
    "- Python is a widely use progamming language used for developing model and visualizations\n",
    "- R is a widely use free statisical programming language\n",
    "- Github allows for coding version control"
   ]
  },
  {
   "cell_type": "markdown",
   "id": "f00af258-3802-403b-9c17-c7add39cf32e",
   "metadata": {},
   "source": [
    "Some of the popular languages that Data Scientists use are:\n",
    "1. Python\n",
    "2. R\n",
    "3. Julia"
   ]
  },
  {
   "cell_type": "markdown",
   "id": "99682e36-2735-49e9-ae62-4a04851d3432",
   "metadata": {},
   "source": [
    "Some of the commonly used libraries used by Data Scientists include:\n",
    "1. TensorFlow\n",
    "2. NumPy\n",
    "3. Pandas\n",
    "4. PyTorch"
   ]
  },
  {
   "cell_type": "markdown",
   "id": "379373e0-33ac-44ae-bcf4-2dd48240d479",
   "metadata": {},
   "source": [
    "|Data Science Tools|\n",
    "|-------------------|\n",
    "| VS Code |\n",
    "|Git|\n",
    "| Anaconda |"
   ]
  },
  {
   "cell_type": "markdown",
   "id": "a428bb89-f818-4e20-b19c-e0ce4a83119d",
   "metadata": {},
   "source": [
    "### Below are a few examples of evaluating arithmetic expressions in Python"
   ]
  },
  {
   "cell_type": "code",
   "execution_count": 2,
   "id": "a814de4d-b81f-40ff-8cbb-a0404849d405",
   "metadata": {},
   "outputs": [
    {
     "data": {
      "text/plain": [
       "23"
      ]
     },
     "execution_count": 2,
     "metadata": {},
     "output_type": "execute_result"
    }
   ],
   "source": [
    "# This is a smple arithmetic expression to multiply then add integers\n",
    "(5*4)+3"
   ]
  },
  {
   "cell_type": "code",
   "execution_count": 3,
   "id": "9281a7d0-58b3-4df1-bf7e-0337834a8cf8",
   "metadata": {},
   "outputs": [
    {
     "data": {
      "text/plain": [
       "3.3333333333333335"
      ]
     },
     "execution_count": 3,
     "metadata": {},
     "output_type": "execute_result"
    }
   ],
   "source": [
    "# This will convert 200 minutes to hours by diving by 60\n",
    "200/60"
   ]
  },
  {
   "cell_type": "markdown",
   "id": "9e4f6b93-4197-4f56-afec-c2bd354fb81f",
   "metadata": {},
   "source": [
    "## Author\n",
    "Joseph Dean"
   ]
  },
  {
   "cell_type": "code",
   "execution_count": null,
   "id": "7d358f0f-5847-48f0-a145-e82b2bb9e018",
   "metadata": {},
   "outputs": [],
   "source": []
  }
 ],
 "metadata": {
  "kernelspec": {
   "display_name": "Python 3 (ipykernel)",
   "language": "python",
   "name": "python3"
  },
  "language_info": {
   "codemirror_mode": {
    "name": "ipython",
    "version": 3
   },
   "file_extension": ".py",
   "mimetype": "text/x-python",
   "name": "python",
   "nbconvert_exporter": "python",
   "pygments_lexer": "ipython3",
   "version": "3.13.7"
  }
 },
 "nbformat": 4,
 "nbformat_minor": 5
}
